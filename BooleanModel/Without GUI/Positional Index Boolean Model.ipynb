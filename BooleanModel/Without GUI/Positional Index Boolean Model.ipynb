{
 "cells": [
  {
   "cell_type": "code",
   "execution_count": 1,
   "metadata": {},
   "outputs": [],
   "source": [
    "import nltk\n",
    "import csv\n",
    "import re"
   ]
  },
  {
   "cell_type": "code",
   "execution_count": 2,
   "metadata": {},
   "outputs": [],
   "source": [
    "#Import all Documents\n",
    "D={}\n",
    "for x in range(50):\n",
    "    x=x+1\n",
    "    file=\"Documents/\"+str(x)+\".txt\"\n",
    "    D[x]=open(file).read()"
   ]
  },
  {
   "cell_type": "code",
   "execution_count": 3,
   "metadata": {},
   "outputs": [],
   "source": [
    "#appended all documents to allDoc\n",
    "allDoc=\"\"\n",
    "for x in range(50):\n",
    "    x=x+1\n",
    "    allDoc=allDoc+\" \\n\"+D[x]"
   ]
  },
  {
   "cell_type": "code",
   "execution_count": 4,
   "metadata": {},
   "outputs": [
    {
     "name": "stdout",
     "output_type": "stream",
     "text": [
      "144647\n"
     ]
    }
   ],
   "source": [
    "#Tokens\n",
    "tokens=nltk.word_tokenize(allDoc)\n",
    "print(len(tokens))"
   ]
  },
  {
   "cell_type": "code",
   "execution_count": 5,
   "metadata": {},
   "outputs": [
    {
     "name": "stdout",
     "output_type": "stream",
     "text": [
      "12199\n"
     ]
    }
   ],
   "source": [
    "#Unique Tokens \n",
    "tokens=list(set(tokens))\n",
    "print(len(tokens))"
   ]
  },
  {
   "cell_type": "code",
   "execution_count": 6,
   "metadata": {},
   "outputs": [],
   "source": [
    "#Remove Special characters\n",
    "removetable=str.maketrans(\"\", \"\", \"'!@#$%^&*()_=-\\|][:';:,<.>/?`~\")\n",
    "tokens=[x.translate(removetable) for x in tokens]"
   ]
  },
  {
   "cell_type": "code",
   "execution_count": 7,
   "metadata": {},
   "outputs": [],
   "source": [
    "#Importing Stoplist\n",
    "stopWord=open(\"Stopword-List.txt\").read()\n",
    "stopWord=nltk.word_tokenize(stopWord)"
   ]
  },
  {
   "cell_type": "code",
   "execution_count": 8,
   "metadata": {},
   "outputs": [
    {
     "name": "stdout",
     "output_type": "stream",
     "text": [
      "12006\n"
     ]
    }
   ],
   "source": [
    "#Removing Stop Words\n",
    "tokens=set(tokens)-set(stopWord)\n",
    "tokens=list(tokens)\n",
    "print(len(tokens))"
   ]
  },
  {
   "cell_type": "code",
   "execution_count": null,
   "metadata": {},
   "outputs": [],
   "source": []
  },
  {
   "cell_type": "code",
   "execution_count": null,
   "metadata": {},
   "outputs": [],
   "source": []
  },
  {
   "cell_type": "code",
   "execution_count": 9,
   "metadata": {},
   "outputs": [],
   "source": [
    "#Sorted Tokens\n",
    "tokens=sorted(tokens)"
   ]
  },
  {
   "cell_type": "code",
   "execution_count": 10,
   "metadata": {},
   "outputs": [
    {
     "name": "stdout",
     "output_type": "stream",
     "text": [
      "12006\n"
     ]
    }
   ],
   "source": [
    "print(len(tokens))"
   ]
  },
  {
   "cell_type": "code",
   "execution_count": 11,
   "metadata": {},
   "outputs": [],
   "source": [
    "#----------------------------------------positional Index---------------------------------------------------------------------#"
   ]
  },
  {
   "cell_type": "code",
   "execution_count": null,
   "metadata": {},
   "outputs": [],
   "source": []
  },
  {
   "cell_type": "code",
   "execution_count": 12,
   "metadata": {},
   "outputs": [],
   "source": [
    "index={}\n",
    "for x in range(len(tokens)):\n",
    "    index[x]={}\n",
    "    for y in range(1,50):\n",
    "        index[x][y]=[m.start() for m in re.finditer(tokens[x],D[y])]"
   ]
  },
  {
   "cell_type": "code",
   "execution_count": 13,
   "metadata": {},
   "outputs": [],
   "source": [
    "dict={}\n",
    "for x in range(len(tokens)):\n",
    "    dict.update({tokens[x]:index[x]})"
   ]
  },
  {
   "cell_type": "code",
   "execution_count": null,
   "metadata": {},
   "outputs": [],
   "source": [
    "with open('pos.csv', 'w',newline=\"\") as csv_file:\n",
    "    writer = csv.writer(csv_file)\n",
    "    for key, value in dict.items():\n",
    "        writer.writerow([key, value])"
   ]
  },
  {
   "cell_type": "code",
   "execution_count": 14,
   "metadata": {},
   "outputs": [],
   "source": [
    "#------------------------------------------Query-------------------------------------------------------------------------------#"
   ]
  },
  {
   "cell_type": "code",
   "execution_count": 15,
   "metadata": {},
   "outputs": [
    {
     "name": "stdout",
     "output_type": "stream",
     "text": [
      "['tears', 'excitement', '/1']\n"
     ]
    }
   ],
   "source": [
    "query=\"tears excitement /1\"\n",
    "qt=nltk.word_tokenize(query)\n",
    "print(qt)"
   ]
  },
  {
   "cell_type": "code",
   "execution_count": 16,
   "metadata": {},
   "outputs": [],
   "source": [
    "#Remove Special characters\n",
    "removetable=str.maketrans(\"\", \"\", \"'!@#$%^&*()_=-\\|][:';:,<.>/?`~\")\n",
    "qt=[x.translate(removetable) for x in qt]"
   ]
  },
  {
   "cell_type": "code",
   "execution_count": 17,
   "metadata": {},
   "outputs": [
    {
     "name": "stdout",
     "output_type": "stream",
     "text": [
      "['tears', 'excitement', '1']\n"
     ]
    }
   ],
   "source": [
    "#Decapitalized\n",
    "qt=[element.lower() for element in qt]\n",
    "print(qt)"
   ]
  },
  {
   "cell_type": "code",
   "execution_count": 18,
   "metadata": {},
   "outputs": [
    {
     "name": "stdout",
     "output_type": "stream",
     "text": [
      "Result for the Query : \n",
      "tears excitement /1\n",
      "Total documents retrieved : 1\n",
      "Documents: \n",
      "{24}\n"
     ]
    }
   ],
   "source": [
    "ans={}\n",
    "res={}\n",
    "\n",
    "if len(qt) == 1:\n",
    "    try:\n",
    "        ans=dict[qt[0]]\n",
    "    except KeyError:\n",
    "            print(\"Key Error\")\n",
    "                    \n",
    "    if not ans:\n",
    "        printString = \"Result for the Query : \" + qt[0]\n",
    "        print (\"0 documents returned as there is no match\")\n",
    "\n",
    "    else:\n",
    "        for x in range(1,len(ans)+1):\n",
    "            if(ans[x]):\n",
    "                res.update({x:ans[x]})\n",
    "                            \n",
    "        print (\"Result for the Query : \" + qt[0])\n",
    "        print (\"Total documents retrieved : \" + str(len(res)))\n",
    "        print(\"Documents: \")\n",
    "        print(res)\n",
    "                \n",
    "                \n",
    "else:\n",
    "    for i in range(len(qt)):\n",
    "        try:\n",
    "            ans=dict[qt[i]]\n",
    "        except KeyError:\n",
    "            print(\"Key Error\")\n",
    "    \n",
    "            \n",
    "        res[i]={}\n",
    "        for x in range(1,len(ans)+1):\n",
    "            if(ans[x]):\n",
    "                res[i].update({x:ans[x]})\n",
    "        \n",
    "        \n",
    "    \n",
    "    Ckey=[]\n",
    "    #common keys\n",
    "    for key in res[0]:\n",
    "        for jey in res[1]:\n",
    "            if key == jey:\n",
    "                Ckey.append(key)\n",
    "    \n",
    "    diff={}\n",
    "    for x in range(len(Ckey)):\n",
    "        temp1=res[0][Ckey[x]]\n",
    "        temp2=res[1][Ckey[x]]\n",
    "        absVal=[]        \n",
    "        \n",
    "        for y in range(len(temp1)):\n",
    "            for z in range(len(temp2)): \n",
    "                absVal.append((abs(temp1[y]-temp2[z])))\n",
    "                \n",
    "        diff[Ckey[x]]=absVal        \n",
    "     \n",
    "    docId=[]\n",
    "    for key,value in diff.items():\n",
    "        for idval in value:\n",
    "            hold=len(qt[0])\n",
    "            if(int(idval)<=hold+4*int(qt[2])+1):\n",
    "                docId.append(key)\n",
    "        \n",
    "        \n",
    "        \n",
    "    print (\"Result for the Query : \")\n",
    "    print(query)\n",
    "    print (\"Total documents retrieved : \"+ str(len(set(docId))))\n",
    "    print(\"Documents: \")\n",
    "    print(set(docId))\n",
    "\n"
   ]
  },
  {
   "cell_type": "code",
   "execution_count": null,
   "metadata": {},
   "outputs": [],
   "source": []
  },
  {
   "cell_type": "code",
   "execution_count": null,
   "metadata": {},
   "outputs": [],
   "source": []
  },
  {
   "cell_type": "code",
   "execution_count": null,
   "metadata": {},
   "outputs": [],
   "source": []
  }
 ],
 "metadata": {
  "kernelspec": {
   "display_name": "Python 3",
   "language": "python",
   "name": "python3"
  },
  "language_info": {
   "codemirror_mode": {
    "name": "ipython",
    "version": 3
   },
   "file_extension": ".py",
   "mimetype": "text/x-python",
   "name": "python",
   "nbconvert_exporter": "python",
   "pygments_lexer": "ipython3",
   "version": "3.7.0"
  }
 },
 "nbformat": 4,
 "nbformat_minor": 2
}
